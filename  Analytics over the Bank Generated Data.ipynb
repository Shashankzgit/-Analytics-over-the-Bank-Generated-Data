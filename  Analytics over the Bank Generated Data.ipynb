{
 "cells": [
  {
   "cell_type": "markdown",
   "metadata": {},
   "source": [
    "### Analytics on Bank Generated Data (with analysis on specific problem statments requried by bank)."
   ]
  },
  {
   "cell_type": "code",
   "execution_count": 1,
   "metadata": {},
   "outputs": [],
   "source": [
    "import pandas as pd\n",
    "import numpy as np\n",
    "import seaborn as sns\n",
    "import matplotlib.pyplot as plt\n",
    "from pandas import DataFrame,Series\n",
    "%matplotlib inline\n",
    "pd.options.display.max_rows = 5413"
   ]
  },
  {
   "cell_type": "code",
   "execution_count": 2,
   "metadata": {},
   "outputs": [
    {
     "data": {
      "text/plain": [
       "(5413, 20)"
      ]
     },
     "execution_count": 2,
     "metadata": {},
     "output_type": "execute_result"
    }
   ],
   "source": [
    "X=pd.read_csv('database.csv')\n",
    "X.shape"
   ]
  },
  {
   "cell_type": "code",
   "execution_count": 3,
   "metadata": {},
   "outputs": [
    {
     "data": {
      "text/html": [
       "<div>\n",
       "<style scoped>\n",
       "    .dataframe tbody tr th:only-of-type {\n",
       "        vertical-align: middle;\n",
       "    }\n",
       "\n",
       "    .dataframe tbody tr th {\n",
       "        vertical-align: top;\n",
       "    }\n",
       "\n",
       "    .dataframe thead th {\n",
       "        text-align: right;\n",
       "    }\n",
       "</style>\n",
       "<table border=\"1\" class=\"dataframe\">\n",
       "  <thead>\n",
       "    <tr style=\"text-align: right;\">\n",
       "      <th></th>\n",
       "      <th>Institution Name</th>\n",
       "      <th>Main Office</th>\n",
       "      <th>Branch Name</th>\n",
       "      <th>Branch Number</th>\n",
       "      <th>Established Date</th>\n",
       "      <th>Acquired Date</th>\n",
       "      <th>Street Address</th>\n",
       "      <th>City</th>\n",
       "      <th>County</th>\n",
       "      <th>State</th>\n",
       "      <th>Zipcode</th>\n",
       "      <th>Latitude</th>\n",
       "      <th>Longitude</th>\n",
       "      <th>2010 Deposits</th>\n",
       "      <th>2011 Deposits</th>\n",
       "      <th>2012 Deposits</th>\n",
       "      <th>2013 Deposits</th>\n",
       "      <th>2014 Deposits</th>\n",
       "      <th>2015 Deposits</th>\n",
       "      <th>2016 Deposits</th>\n",
       "    </tr>\n",
       "  </thead>\n",
       "  <tbody>\n",
       "    <tr>\n",
       "      <th>0</th>\n",
       "      <td>JPMorgan Chase Bank</td>\n",
       "      <td>1</td>\n",
       "      <td>JPMorgan Chase Bank Main Office</td>\n",
       "      <td>0</td>\n",
       "      <td>01/01/1824</td>\n",
       "      <td>NaN</td>\n",
       "      <td>1111 Polaris Parkway</td>\n",
       "      <td>Columbus</td>\n",
       "      <td>Delaware</td>\n",
       "      <td>OH</td>\n",
       "      <td>43240</td>\n",
       "      <td>40.14453</td>\n",
       "      <td>-82.99115</td>\n",
       "      <td>633131000.0</td>\n",
       "      <td>743268000.0</td>\n",
       "      <td>832455000.0</td>\n",
       "      <td>916543000.0</td>\n",
       "      <td>1.032549e+09</td>\n",
       "      <td>1.069425e+09</td>\n",
       "      <td>1155185000</td>\n",
       "    </tr>\n",
       "    <tr>\n",
       "      <th>1</th>\n",
       "      <td>JPMorgan Chase Bank</td>\n",
       "      <td>0</td>\n",
       "      <td>Vernon Hills Scarsdale Branch</td>\n",
       "      <td>2</td>\n",
       "      <td>03/20/1961</td>\n",
       "      <td>NaN</td>\n",
       "      <td>676 White Plains Road</td>\n",
       "      <td>Scarsdale</td>\n",
       "      <td>Westchester</td>\n",
       "      <td>NY</td>\n",
       "      <td>10583</td>\n",
       "      <td>40.97008</td>\n",
       "      <td>-73.80670</td>\n",
       "      <td>293229.0</td>\n",
       "      <td>310791.0</td>\n",
       "      <td>325742.0</td>\n",
       "      <td>327930.0</td>\n",
       "      <td>3.277920e+05</td>\n",
       "      <td>3.414750e+05</td>\n",
       "      <td>381558</td>\n",
       "    </tr>\n",
       "    <tr>\n",
       "      <th>2</th>\n",
       "      <td>JPMorgan Chase Bank</td>\n",
       "      <td>0</td>\n",
       "      <td>Great Neck Northern Boulevard Branch</td>\n",
       "      <td>3</td>\n",
       "      <td>09/09/1963</td>\n",
       "      <td>NaN</td>\n",
       "      <td>410 Northern Boulevard</td>\n",
       "      <td>Great Neck</td>\n",
       "      <td>Nassau</td>\n",
       "      <td>NY</td>\n",
       "      <td>11021</td>\n",
       "      <td>40.77944</td>\n",
       "      <td>-73.72240</td>\n",
       "      <td>191011.0</td>\n",
       "      <td>206933.0</td>\n",
       "      <td>216439.0</td>\n",
       "      <td>237983.0</td>\n",
       "      <td>2.341830e+05</td>\n",
       "      <td>2.624550e+05</td>\n",
       "      <td>278940</td>\n",
       "    </tr>\n",
       "  </tbody>\n",
       "</table>\n",
       "</div>"
      ],
      "text/plain": [
       "      Institution Name  Main Office                           Branch Name  \\\n",
       "0  JPMorgan Chase Bank            1       JPMorgan Chase Bank Main Office   \n",
       "1  JPMorgan Chase Bank            0         Vernon Hills Scarsdale Branch   \n",
       "2  JPMorgan Chase Bank            0  Great Neck Northern Boulevard Branch   \n",
       "\n",
       "   Branch Number Established Date Acquired Date          Street Address  \\\n",
       "0              0       01/01/1824           NaN    1111 Polaris Parkway   \n",
       "1              2       03/20/1961           NaN   676 White Plains Road   \n",
       "2              3       09/09/1963           NaN  410 Northern Boulevard   \n",
       "\n",
       "         City       County State  Zipcode  Latitude  Longitude  2010 Deposits  \\\n",
       "0    Columbus     Delaware    OH    43240  40.14453  -82.99115    633131000.0   \n",
       "1   Scarsdale  Westchester    NY    10583  40.97008  -73.80670       293229.0   \n",
       "2  Great Neck       Nassau    NY    11021  40.77944  -73.72240       191011.0   \n",
       "\n",
       "   2011 Deposits  2012 Deposits  2013 Deposits  2014 Deposits  2015 Deposits  \\\n",
       "0    743268000.0    832455000.0    916543000.0   1.032549e+09   1.069425e+09   \n",
       "1       310791.0       325742.0       327930.0   3.277920e+05   3.414750e+05   \n",
       "2       206933.0       216439.0       237983.0   2.341830e+05   2.624550e+05   \n",
       "\n",
       "   2016 Deposits  \n",
       "0     1155185000  \n",
       "1         381558  \n",
       "2         278940  "
      ]
     },
     "execution_count": 3,
     "metadata": {},
     "output_type": "execute_result"
    }
   ],
   "source": [
    "X.head(3)"
   ]
  },
  {
   "cell_type": "code",
   "execution_count": 4,
   "metadata": {},
   "outputs": [
    {
     "data": {
      "text/html": [
       "<div>\n",
       "<style scoped>\n",
       "    .dataframe tbody tr th:only-of-type {\n",
       "        vertical-align: middle;\n",
       "    }\n",
       "\n",
       "    .dataframe tbody tr th {\n",
       "        vertical-align: top;\n",
       "    }\n",
       "\n",
       "    .dataframe thead th {\n",
       "        text-align: right;\n",
       "    }\n",
       "</style>\n",
       "<table border=\"1\" class=\"dataframe\">\n",
       "  <thead>\n",
       "    <tr style=\"text-align: right;\">\n",
       "      <th></th>\n",
       "      <th>Institution Name</th>\n",
       "      <th>Main Office</th>\n",
       "      <th>Branch Name</th>\n",
       "      <th>Branch Number</th>\n",
       "      <th>Established Date</th>\n",
       "      <th>Acquired Date</th>\n",
       "      <th>Street Address</th>\n",
       "      <th>City</th>\n",
       "      <th>County</th>\n",
       "      <th>State</th>\n",
       "      <th>Zipcode</th>\n",
       "      <th>Latitude</th>\n",
       "      <th>Longitude</th>\n",
       "      <th>2010 Deposits</th>\n",
       "      <th>2011 Deposits</th>\n",
       "      <th>2012 Deposits</th>\n",
       "      <th>2013 Deposits</th>\n",
       "      <th>2014 Deposits</th>\n",
       "      <th>2015 Deposits</th>\n",
       "      <th>2016 Deposits</th>\n",
       "    </tr>\n",
       "  </thead>\n",
       "  <tbody>\n",
       "    <tr>\n",
       "      <th>5410</th>\n",
       "      <td>JPMorgan Chase Bank</td>\n",
       "      <td>0</td>\n",
       "      <td>Los Olivos Branch</td>\n",
       "      <td>7984</td>\n",
       "      <td>03/15/2016</td>\n",
       "      <td>NaN</td>\n",
       "      <td>8593 Irvine Center Drive</td>\n",
       "      <td>Irvine</td>\n",
       "      <td>Orange</td>\n",
       "      <td>CA</td>\n",
       "      <td>92618</td>\n",
       "      <td>33.64412</td>\n",
       "      <td>-117.74453</td>\n",
       "      <td>NaN</td>\n",
       "      <td>NaN</td>\n",
       "      <td>NaN</td>\n",
       "      <td>NaN</td>\n",
       "      <td>NaN</td>\n",
       "      <td>NaN</td>\n",
       "      <td>6689</td>\n",
       "    </tr>\n",
       "    <tr>\n",
       "      <th>5411</th>\n",
       "      <td>JPMorgan Chase Bank</td>\n",
       "      <td>0</td>\n",
       "      <td>Lake Forest Branch</td>\n",
       "      <td>7988</td>\n",
       "      <td>01/01/2016</td>\n",
       "      <td>NaN</td>\n",
       "      <td>5660 Read Blvd</td>\n",
       "      <td>New Orleans</td>\n",
       "      <td>Orleans</td>\n",
       "      <td>LA</td>\n",
       "      <td>70127</td>\n",
       "      <td>30.03205</td>\n",
       "      <td>-89.97260</td>\n",
       "      <td>NaN</td>\n",
       "      <td>NaN</td>\n",
       "      <td>NaN</td>\n",
       "      <td>NaN</td>\n",
       "      <td>NaN</td>\n",
       "      <td>NaN</td>\n",
       "      <td>94133</td>\n",
       "    </tr>\n",
       "    <tr>\n",
       "      <th>5412</th>\n",
       "      <td>JPMorgan Chase Bank</td>\n",
       "      <td>0</td>\n",
       "      <td>Buffalo-Mm Branch</td>\n",
       "      <td>7989</td>\n",
       "      <td>01/01/2016</td>\n",
       "      <td>NaN</td>\n",
       "      <td>350 Main Street</td>\n",
       "      <td>Buffalo</td>\n",
       "      <td>Erie</td>\n",
       "      <td>NY</td>\n",
       "      <td>14202</td>\n",
       "      <td>42.88429</td>\n",
       "      <td>-78.87487</td>\n",
       "      <td>NaN</td>\n",
       "      <td>NaN</td>\n",
       "      <td>NaN</td>\n",
       "      <td>NaN</td>\n",
       "      <td>NaN</td>\n",
       "      <td>NaN</td>\n",
       "      <td>45596</td>\n",
       "    </tr>\n",
       "  </tbody>\n",
       "</table>\n",
       "</div>"
      ],
      "text/plain": [
       "         Institution Name  Main Office         Branch Name  Branch Number  \\\n",
       "5410  JPMorgan Chase Bank            0   Los Olivos Branch           7984   \n",
       "5411  JPMorgan Chase Bank            0  Lake Forest Branch           7988   \n",
       "5412  JPMorgan Chase Bank            0   Buffalo-Mm Branch           7989   \n",
       "\n",
       "     Established Date Acquired Date            Street Address         City  \\\n",
       "5410       03/15/2016           NaN  8593 Irvine Center Drive       Irvine   \n",
       "5411       01/01/2016           NaN            5660 Read Blvd  New Orleans   \n",
       "5412       01/01/2016           NaN           350 Main Street      Buffalo   \n",
       "\n",
       "       County State  Zipcode  Latitude  Longitude  2010 Deposits  \\\n",
       "5410   Orange    CA    92618  33.64412 -117.74453            NaN   \n",
       "5411  Orleans    LA    70127  30.03205  -89.97260            NaN   \n",
       "5412     Erie    NY    14202  42.88429  -78.87487            NaN   \n",
       "\n",
       "      2011 Deposits  2012 Deposits  2013 Deposits  2014 Deposits  \\\n",
       "5410            NaN            NaN            NaN            NaN   \n",
       "5411            NaN            NaN            NaN            NaN   \n",
       "5412            NaN            NaN            NaN            NaN   \n",
       "\n",
       "      2015 Deposits  2016 Deposits  \n",
       "5410            NaN           6689  \n",
       "5411            NaN          94133  \n",
       "5412            NaN          45596  "
      ]
     },
     "execution_count": 4,
     "metadata": {},
     "output_type": "execute_result"
    }
   ],
   "source": [
    "X.tail(3)"
   ]
  },
  {
   "cell_type": "code",
   "execution_count": 5,
   "metadata": {},
   "outputs": [
    {
     "name": "stdout",
     "output_type": "stream",
     "text": [
      "<class 'pandas.core.frame.DataFrame'>\n",
      "RangeIndex: 5413 entries, 0 to 5412\n",
      "Data columns (total 20 columns):\n",
      "Institution Name    5413 non-null object\n",
      "Main Office         5413 non-null int64\n",
      "Branch Name         5413 non-null object\n",
      "Branch Number       5413 non-null int64\n",
      "Established Date    5413 non-null object\n",
      "Acquired Date       3798 non-null object\n",
      "Street Address      5413 non-null object\n",
      "City                5413 non-null object\n",
      "County              5413 non-null object\n",
      "State               5413 non-null object\n",
      "Zipcode             5413 non-null int64\n",
      "Latitude            5347 non-null float64\n",
      "Longitude           5347 non-null float64\n",
      "2010 Deposits       4673 non-null float64\n",
      "2011 Deposits       4835 non-null float64\n",
      "2012 Deposits       5084 non-null float64\n",
      "2013 Deposits       5238 non-null float64\n",
      "2014 Deposits       5357 non-null float64\n",
      "2015 Deposits       5394 non-null float64\n",
      "2016 Deposits       5413 non-null int64\n",
      "dtypes: float64(8), int64(4), object(8)\n",
      "memory usage: 845.9+ KB\n"
     ]
    }
   ],
   "source": [
    "X.info()"
   ]
  },
  {
   "cell_type": "code",
   "execution_count": 6,
   "metadata": {},
   "outputs": [
    {
     "data": {
      "text/plain": [
       "Institution Name       0\n",
       "Main Office            0\n",
       "Branch Name            0\n",
       "Branch Number          0\n",
       "Established Date       0\n",
       "Acquired Date       1615\n",
       "Street Address         0\n",
       "City                   0\n",
       "County                 0\n",
       "State                  0\n",
       "Zipcode                0\n",
       "Latitude              66\n",
       "Longitude             66\n",
       "2010 Deposits        740\n",
       "2011 Deposits        578\n",
       "2012 Deposits        329\n",
       "2013 Deposits        175\n",
       "2014 Deposits         56\n",
       "2015 Deposits         19\n",
       "2016 Deposits          0\n",
       "dtype: int64"
      ]
     },
     "execution_count": 6,
     "metadata": {},
     "output_type": "execute_result"
    }
   ],
   "source": [
    "X.isnull().sum()"
   ]
  },
  {
   "cell_type": "markdown",
   "metadata": {},
   "source": [
    "### Problem Statments:"
   ]
  },
  {
   "cell_type": "markdown",
   "metadata": {},
   "source": [
    "Perform Exploratory Data Analysis on the dataset to understand the following:\n",
    "1. Where did Chase Bank customers deposit the most money in 2015?\n",
    "2. Which bank branch has seen the most growth in deposits over the years?\n",
    "3. Illustrate the acquisitions by bank state wise\n",
    "4. What city has the most bank branches?\n",
    "5. How did the bank deposits grow between the years 2010-2016 for the top five\n",
    "bank\n",
    "branches in New York(NY) state"
   ]
  },
  {
   "cell_type": "markdown",
   "metadata": {},
   "source": [
    "### 1.  Chase Bank customers most deposits the in 2015:"
   ]
  },
  {
   "cell_type": "code",
   "execution_count": 10,
   "metadata": {},
   "outputs": [
    {
     "data": {
      "text/plain": [
       "5317"
      ]
     },
     "execution_count": 10,
     "metadata": {},
     "output_type": "execute_result"
    }
   ],
   "source": [
    "X['Branch Name'].nunique()"
   ]
  },
  {
   "cell_type": "code",
   "execution_count": 70,
   "metadata": {},
   "outputs": [
    {
     "data": {
      "image/png": "[encoded data removed]",
      "text/plain": [
       "<Figure size 432x288 with 1 Axes>"
      ]
     },
     "metadata": {
      "needs_background": "light"
     },
     "output_type": "display_data"
    }
   ],
   "source": [
    "X['2015 Deposits'].groupby(X['Branch Name']).count().sort_values(ascending=False).head().plot(kind='bar',color='g',alpha=0.6)\n",
    "plt.show()"
   ]
  },
  {
   "cell_type": "code",
   "execution_count": 55,
   "metadata": {
    "scrolled": true
   },
   "outputs": [
    {
     "data": {
      "text/plain": [
       "Branch Name\n",
       "Riverside Branch            4\n",
       "Drive-In Facility Branch    4\n",
       "Westwood Branch             4\n",
       "Oceanside Branch            3\n",
       "New Rochelle Branch         3\n",
       "Name: 2015 Deposits, dtype: int64"
      ]
     },
     "execution_count": 55,
     "metadata": {},
     "output_type": "execute_result"
    }
   ],
   "source": [
    "X['2015 Deposits'].groupby(X['Branch Name']).count().sort_values(ascending=False).head()"
   ]
  },
  {
   "cell_type": "code",
   "execution_count": 72,
   "metadata": {},
   "outputs": [
    {
     "data": {
      "image/png": "[encoded data removed]",
      "text/plain": [
       "<Figure size 432x288 with 1 Axes>"
      ]
     },
     "metadata": {
      "needs_background": "light"
     },
     "output_type": "display_data"
    }
   ],
   "source": [
    "X['2015 Deposits'].groupby(X['County']).count().sort_values(ascending=False).head().plot(kind='bar',color='g',alpha=0.6)\n",
    "plt.show()"
   ]
  },
  {
   "cell_type": "code",
   "execution_count": 56,
   "metadata": {
    "scrolled": true
   },
   "outputs": [
    {
     "data": {
      "text/plain": [
       "County\n",
       "Los Angeles    296\n",
       "Cook           224\n",
       "Harris         179\n",
       "Maricopa       174\n",
       "New York       152\n",
       "Name: 2015 Deposits, dtype: int64"
      ]
     },
     "execution_count": 56,
     "metadata": {},
     "output_type": "execute_result"
    }
   ],
   "source": [
    "X['2015 Deposits'].groupby(X['County']).count().sort_values(ascending=False).head()"
   ]
  },
  {
   "cell_type": "markdown",
   "metadata": {},
   "source": [
    "* Most amount of Customers Deposites were in Riverside Branch in country los angeles for the year 2015. "
   ]
  },
  {
   "cell_type": "markdown",
   "metadata": {},
   "source": [
    "#### Max Amount of money Deposited in 2015:"
   ]
  },
  {
   "cell_type": "code",
   "execution_count": 13,
   "metadata": {
    "scrolled": true
   },
   "outputs": [
    {
     "data": {
      "text/plain": [
       "Branch Name\n",
       "JPMorgan Chase Bank Main Office    1.069425e+09\n",
       "Madison and 48th St Branch         2.612928e+08\n",
       "Madison Ave Abd 48th St Branch     8.456904e+07\n",
       "Houston Main Office                6.070217e+07\n",
       "Chicago's Main Office Branch       4.332695e+07\n",
       "Name: 2015 Deposits, dtype: float64"
      ]
     },
     "execution_count": 13,
     "metadata": {},
     "output_type": "execute_result"
    }
   ],
   "source": [
    "X['2015 Deposits'].groupby(X['Branch Name']).sum().sort_values(ascending=False).head()"
   ]
  },
  {
   "cell_type": "code",
   "execution_count": 14,
   "metadata": {
    "scrolled": true
   },
   "outputs": [
    {
     "data": {
      "text/plain": [
       "County\n",
       "Delaware    1.070431e+09\n",
       "New York    4.047430e+08\n",
       "Harris      7.961658e+07\n",
       "Cook        6.996147e+07\n",
       "Dallas      3.680343e+07\n",
       "Name: 2015 Deposits, dtype: float64"
      ]
     },
     "execution_count": 14,
     "metadata": {},
     "output_type": "execute_result"
    }
   ],
   "source": [
    "X['2015 Deposits'].groupby(X['County']).sum().sort_values(ascending=False).head()"
   ]
  },
  {
   "cell_type": "markdown",
   "metadata": {},
   "source": [
    "* Max amount of Customers money Deposites were in JPmorgan Branch in country of Delaware for the year 2015. "
   ]
  },
  {
   "cell_type": "markdown",
   "metadata": {},
   "source": [
    "### 2. Which bank branch has seen the most growth in deposits over the years?"
   ]
  },
  {
   "cell_type": "code",
   "execution_count": 11,
   "metadata": {
    "scrolled": false
   },
   "outputs": [
    {
     "name": "stdout",
     "output_type": "stream",
     "text": [
      "Branch Name\n",
      "JPMorgan Chase Bank Main Office    633131000.0\n",
      "Name: 2010 Deposits, dtype: float64\n",
      "\n",
      "\n",
      "Branch Name\n",
      "JPMorgan Chase Bank Main Office    743268000.0\n",
      "Name: 2011 Deposits, dtype: float64\n",
      "\n",
      "\n",
      "Branch Name\n",
      "JPMorgan Chase Bank Main Office    832455000.0\n",
      "Name: 2012 Deposits, dtype: float64\n",
      "\n",
      "\n",
      "Branch Name\n",
      "JPMorgan Chase Bank Main Office    916543000.0\n",
      "Name: 2013 Deposits, dtype: float64\n",
      "\n",
      "\n",
      "Branch Name\n",
      "JPMorgan Chase Bank Main Office    1.032549e+09\n",
      "Name: 2014 Deposits, dtype: float64\n",
      "\n",
      "\n",
      "Branch Name\n",
      "JPMorgan Chase Bank Main Office    1.069425e+09\n",
      "Name: 2015 Deposits, dtype: float64\n",
      "\n",
      "\n",
      "Branch Name\n",
      "JPMorgan Chase Bank Main Office    1155185000\n",
      "Name: 2016 Deposits, dtype: int64\n",
      "\n",
      "\n"
     ]
    }
   ],
   "source": [
    "\n",
    "list=['2010 Deposits','2011 Deposits', '2012 Deposits', '2013 Deposits', '2014 Deposits',\n",
    "       '2015 Deposits', '2016 Deposits']\n",
    "\n",
    "\n",
    "for i in list:\n",
    "    print(X[i].groupby(X['Branch Name']).sum().sort_values(ascending=False).head(1))\n",
    "    print('')\n",
    "    print('')"
   ]
  },
  {
   "cell_type": "markdown",
   "metadata": {},
   "source": [
    "* From the Analysis we can Observe that Jpmorgan Main office Branch had most Growth over the years."
   ]
  },
  {
   "cell_type": "markdown",
   "metadata": {},
   "source": [
    "### 3. Illustrate the acquisitions by bank state wise:"
   ]
  },
  {
   "cell_type": "code",
   "execution_count": 22,
   "metadata": {},
   "outputs": [
    {
     "data": {
      "text/plain": [
       "26"
      ]
     },
     "execution_count": 22,
     "metadata": {},
     "output_type": "execute_result"
    }
   ],
   "source": [
    "X['State'].nunique()"
   ]
  },
  {
   "cell_type": "code",
   "execution_count": 69,
   "metadata": {
    "scrolled": true
   },
   "outputs": [
    {
     "data": {
      "image/png": "[encoded data removed]",
      "text/plain": [
       "<Figure size 1080x360 with 1 Axes>"
      ]
     },
     "metadata": {
      "needs_background": "light"
     },
     "output_type": "display_data"
    }
   ],
   "source": [
    "plt.figure(figsize=(15,5))\n",
    "X['Branch Name'].groupby(X['State']).count().sort_values(ascending=False).plot(kind='bar',color='g',alpha=0.6)\n",
    "plt.show()"
   ]
  },
  {
   "cell_type": "markdown",
   "metadata": {},
   "source": [
    "* From the analysis we can observe that State CA has most number of  Bank acquisitions"
   ]
  },
  {
   "cell_type": "markdown",
   "metadata": {},
   "source": [
    "### 4. What city has the most bank branches?"
   ]
  },
  {
   "cell_type": "code",
   "execution_count": 33,
   "metadata": {
    "scrolled": true
   },
   "outputs": [
    {
     "data": {
      "text/plain": [
       "City\n",
       "New York City    154\n",
       "Houston          139\n",
       "Chicago          119\n",
       "Brooklyn          77\n",
       "Dallas            64\n",
       "Name: Branch Name, dtype: int64"
      ]
     },
     "execution_count": 33,
     "metadata": {},
     "output_type": "execute_result"
    }
   ],
   "source": [
    "X['Branch Name'].groupby(X['City']).count().sort_values(ascending=False).head()"
   ]
  },
  {
   "cell_type": "code",
   "execution_count": 68,
   "metadata": {
    "scrolled": false
   },
   "outputs": [
    {
     "data": {
      "image/png": "[encoded data removed]",
      "text/plain": [
       "<Figure size 576x360 with 1 Axes>"
      ]
     },
     "metadata": {
      "needs_background": "light"
     },
     "output_type": "display_data"
    }
   ],
   "source": [
    "plt.figure(figsize=(8,5))\n",
    "X['Branch Name'].groupby(X['City']).count().sort_values(ascending=False).head().plot(kind='bar',color='g',alpha=0.6)\n",
    "plt.show()"
   ]
  },
  {
   "cell_type": "markdown",
   "metadata": {},
   "source": [
    "* From the analysis we can see that New York city had most amount of Banks."
   ]
  },
  {
   "cell_type": "markdown",
   "metadata": {},
   "source": [
    "### 5. How did the bank deposits grow between the years 2010-2016 for the top five bank branches in New York(NY) state"
   ]
  },
  {
   "cell_type": "code",
   "execution_count": 12,
   "metadata": {
    "scrolled": false
   },
   "outputs": [
    {
     "data": {
      "image/png": "[encoded data removed]",
      "text/plain": [
       "<Figure size 720x360 with 1 Axes>"
      ]
     },
     "metadata": {
      "needs_background": "light"
     },
     "output_type": "display_data"
    },
    {
     "name": "stdout",
     "output_type": "stream",
     "text": [
      "\n",
      "2010 Deposits Distribution\n",
      "Branch Name\n",
      "Madison and 48th St Branch        153577328.0\n",
      "Madison Ave Abd 48th St Branch     45099076.0\n",
      "Exxon Building Branch               1633290.0\n",
      "Chase Plaza Branch                  1393004.0\n",
      "First Ave and 44th St Branch        1049068.0\n",
      "Name: 2010 Deposits, dtype: float64\n",
      "_______________________________________________________________________________________\n"
     ]
    },
    {
     "data": {
      "image/png": "[encoded data removed]",
      "text/plain": [
       "<Figure size 720x360 with 1 Axes>"
      ]
     },
     "metadata": {
      "needs_background": "light"
     },
     "output_type": "display_data"
    },
    {
     "name": "stdout",
     "output_type": "stream",
     "text": [
      "\n",
      "2011 Deposits Distribution\n",
      "Branch Name\n",
      "Madison and 48th St Branch                          194388000.0\n",
      "Madison Ave Abd 48th St Branch                       62630984.0\n",
      "Fifth Avenue & 44th Street Banking Center Branch      4792944.0\n",
      "Exxon Building Branch                                 1755963.0\n",
      "Chase Plaza Branch                                    1475539.0\n",
      "Name: 2011 Deposits, dtype: float64\n",
      "_______________________________________________________________________________________\n"
     ]
    },
    {
     "data": {
      "image/png": "[encoded data removed]",
      "text/plain": [
       "<Figure size 720x360 with 1 Axes>"
      ]
     },
     "metadata": {
      "needs_background": "light"
     },
     "output_type": "display_data"
    },
    {
     "name": "stdout",
     "output_type": "stream",
     "text": [
      "\n",
      "2012 Deposits Distribution\n",
      "Branch Name\n",
      "Madison and 48th St Branch                          207367988.0\n",
      "Madison Ave Abd 48th St Branch                       81960379.0\n",
      "Fifth Avenue & 44th Street Banking Center Branch      6278005.0\n",
      "Exxon Building Branch                                 1915696.0\n",
      "Chase Plaza Branch                                    1517297.0\n",
      "Name: 2012 Deposits, dtype: float64\n",
      "_______________________________________________________________________________________\n"
     ]
    },
    {
     "data": {
      "image/png": "[encoded data removed]",
      "text/plain": [
       "<Figure size 720x360 with 1 Axes>"
      ]
     },
     "metadata": {
      "needs_background": "light"
     },
     "output_type": "display_data"
    },
    {
     "name": "stdout",
     "output_type": "stream",
     "text": [
      "\n",
      "2013 Deposits Distribution\n",
      "Branch Name\n",
      "Madison and 48th St Branch                          223395353.0\n",
      "Madison Ave Abd 48th St Branch                       85177807.0\n",
      "Fifth Avenue & 44th Street Banking Center Branch      8334885.0\n",
      "Exxon Building Branch                                 1999711.0\n",
      "Chase Plaza Branch                                    1637099.0\n",
      "Name: 2013 Deposits, dtype: float64\n",
      "_______________________________________________________________________________________\n"
     ]
    },
    {
     "data": {
      "image/png": "[encoded data removed]",
      "text/plain": [
       "<Figure size 720x360 with 1 Axes>"
      ]
     },
     "metadata": {
      "needs_background": "light"
     },
     "output_type": "display_data"
    },
    {
     "name": "stdout",
     "output_type": "stream",
     "text": [
      "\n",
      "2014 Deposits Distribution\n",
      "Branch Name\n",
      "Madison and 48th St Branch                          241540582.0\n",
      "Madison Ave Abd 48th St Branch                       98322162.0\n",
      "Fifth Avenue & 44th Street Banking Center Branch      6822099.0\n",
      "Exxon Building Branch                                 2004986.0\n",
      "Chase Plaza Branch                                    1656725.0\n",
      "Name: 2014 Deposits, dtype: float64\n",
      "_______________________________________________________________________________________\n"
     ]
    },
    {
     "data": {
      "image/png": "[encoded data removed]",
      "text/plain": [
       "<Figure size 720x360 with 1 Axes>"
      ]
     },
     "metadata": {
      "needs_background": "light"
     },
     "output_type": "display_data"
    },
    {
     "name": "stdout",
     "output_type": "stream",
     "text": [
      "\n",
      "2015 Deposits Distribution\n",
      "Branch Name\n",
      "Madison and 48th St Branch                          261292750.0\n",
      "Madison Ave Abd 48th St Branch                       84569038.0\n",
      "Empire State Branch                                   7099781.0\n",
      "Fifth Avenue & 44th Street Banking Center Branch      6675447.0\n",
      "Exxon Building Branch                                 2008347.0\n",
      "Name: 2015 Deposits, dtype: float64\n",
      "_______________________________________________________________________________________\n"
     ]
    },
    {
     "data": {
      "image/png": "[encoded data removed]",
      "text/plain": [
       "<Figure size 720x360 with 1 Axes>"
      ]
     },
     "metadata": {
      "needs_background": "light"
     },
     "output_type": "display_data"
    },
    {
     "name": "stdout",
     "output_type": "stream",
     "text": [
      "\n",
      "2016 Deposits Distribution\n",
      "Branch Name\n",
      "Madison and 48th St Branch                          313686851\n",
      "Madison Ave Abd 48th St Branch                       69044786\n",
      "Empire State Branch                                  15580897\n",
      "Fifth Avenue & 44th Street Banking Center Branch      6879927\n",
      "Exxon Building Branch                                 2072137\n",
      "Name: 2016 Deposits, dtype: int64\n",
      "_______________________________________________________________________________________\n"
     ]
    }
   ],
   "source": [
    "for i in list:\n",
    "    plt.figure(figsize=(10,5))\n",
    "    X[X['State']=='NY'][i].groupby(X[X['State']=='NY']['Branch Name']).sum().sort_values(ascending=False).head(5).plot(kind='bar',color='g',alpha=0.6)\n",
    "    plt.title(i)\n",
    "    plt.show()\n",
    "    print('')\n",
    "    print(i,'Distribution')\n",
    "    print(X[X['State']=='NY'][i].groupby(X[X['State']=='NY']['Branch Name']).sum().sort_values(ascending=False).head(5))\n",
    "    print('_______________________________________________________________________________________')"
   ]
  },
  {
   "cell_type": "markdown",
   "metadata": {},
   "source": [
    "We can observe that Madison and 48th St Branch Deposites has increased consistently over the years.\n",
    "* 2010: 153577328.0\n",
    "* 2011: 194388000.0\n",
    "* 2012: 207367988.0\n",
    "* 2013: 223395353.0\n",
    "* 2014: 241540582.0\n",
    "* 2015: 261292750.0\n",
    "* 2016: 313686851"
   ]
  },
  {
   "cell_type": "markdown",
   "metadata": {},
   "source": [
    "## Report:"
   ]
  },
  {
   "cell_type": "markdown",
   "metadata": {},
   "source": [
    "1. Where did Chase Bank customers deposit the most money in 2015?\n",
    "  * Most amount of Customers Deposites were in Riverside Branch in country losangeles for the year 2015.\n",
    "  * Max amount of Customers money Deposites were in JPmorgan Branch in country of Delaware for the year 2015.  \n",
    "\n",
    " \n",
    "2. Which bank branch has seen the most growth in deposits over the years?\n",
    "  * From the Analysis we can Observe that Jpmorgan Main office Branch had most Growth over the years.\n",
    "\n",
    "\n",
    "3. Illustrate the acquisitions by bank state wise\n",
    "  * From the analysis we can observe that State CA has most number of  Bank acquisitions\n",
    "\n",
    "\n",
    "4. What city has the most bank branches?\n",
    "   * From the analysis we can see that New York city had most amount of Banks. \n",
    "\n",
    "\n",
    "5. How did the bank deposits grow between the years 2010-2016 for the top five bank branches in New York(NY) state\n",
    "   * We can observe that Madison and 48th St Branch Deposites has increased consistently over the years.\n",
    "    * 2010: 153577328.0\n",
    "    * 2011: 194388000.0\n",
    "    * 2012: 207367988.0\n",
    "    * 2013: 223395353.0\n",
    "    * 2014: 241540582.0\n",
    "    * 2015: 261292750.0\n",
    "    * 2016: 313686851"
   ]
  },
  {
   "cell_type": "code",
   "execution_count": null,
   "metadata": {},
   "outputs": [],
   "source": []
  }
 ],
 "metadata": {
  "kernelspec": {
   "display_name": "Python 3",
   "language": "python",
   "name": "python3"
  },
  "language_info": {
   "codemirror_mode": {
    "name": "ipython",
    "version": 3
   },
   "file_extension": ".py",
   "mimetype": "text/x-python",
   "name": "python",
   "nbconvert_exporter": "python",
   "pygments_lexer": "ipython3",
   "version": "3.7.1"
  }
 },
 "nbformat": 4,
 "nbformat_minor": 2
}
